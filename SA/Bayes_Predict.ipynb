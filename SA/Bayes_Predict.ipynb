{
 "cells": [
  {
   "cell_type": "code",
   "execution_count": 1,
   "metadata": {
    "collapsed": true
   },
   "outputs": [],
   "source": [
    "from collections import Counter\n",
    "import re\n",
    "import csv\n",
    "import numpy as np\n",
    "from sklearn import metrics"
   ]
  },
  {
   "cell_type": "code",
   "execution_count": 2,
   "metadata": {
    "collapsed": true
   },
   "outputs": [],
   "source": [
    "with open(\"/Users/pavithraraghavan/Documents/Sentiment_Analysis/Final_datasets/Dataset_Bayes.csv\", 'r') as file:\n",
    "    data1 = list(csv.reader(file))"
   ]
  },
  {
   "cell_type": "code",
   "execution_count": 3,
   "metadata": {
    "collapsed": true
   },
   "outputs": [],
   "source": [
    "data1.pop(0)\n",
    "s = 30000\n",
    "data = data1[:-s]\n",
    "test = data1[-s:]"
   ]
  },
  {
   "cell_type": "code",
   "execution_count": 4,
   "metadata": {
    "collapsed": true
   },
   "outputs": [],
   "source": [
    "def getText(data, y):\n",
    "    return \" \".join([a[1].lower() for a in data if a[0] == str(y)])"
   ]
  },
  {
   "cell_type": "code",
   "execution_count": 5,
   "metadata": {
    "collapsed": true
   },
   "outputs": [],
   "source": [
    "def getWords(data):\n",
    "    words = re.split(\"\\s+\", data)\n",
    "    return Counter(words)"
   ]
  },
  {
   "cell_type": "code",
   "execution_count": 6,
   "metadata": {
    "collapsed": true
   },
   "outputs": [],
   "source": [
    "def getNumOfClassification(y):\n",
    "    return len([a for a in data if a[0] == str(y)])"
   ]
  },
  {
   "cell_type": "code",
   "execution_count": 7,
   "metadata": {
    "collapsed": true
   },
   "outputs": [],
   "source": [
    "def predict_one(text, counts, class_prob, class_count):\n",
    "    prediction = 1\n",
    "    text_counts = Counter(re.split(\"\\s+\", text))\n",
    "    for word in text_counts:\n",
    "        prediction *=  text_counts.get(word) * ((counts.get(word, 0) + 1) / (sum(counts.values()) + class_count))\n",
    "    return prediction * class_prob"
   ]
  },
  {
   "cell_type": "code",
   "execution_count": 15,
   "metadata": {},
   "outputs": [],
   "source": [
    "def predict_all(text, negative_counts, prob_negative, negative_data_count, positive_counts, prob_positive, positive_data_count, neutral_counts, prob_neutral, neutral_data_count):\n",
    "    negative_prediction = predict_one(text, negative_counts, prob_negative, negative_data_count)\n",
    "    positive_prediction = predict_one(text, positive_counts, prob_positive, positive_data_count)\n",
    "    neutral_prediction = predict_one(text, neutral_counts, prob_neutral, neutral_data_count)\n",
    "    \n",
    "    if (negative_prediction >= positive_prediction) and (negative_prediction >= neutral_prediction):\n",
    "        return 0\n",
    "    elif (positive_prediction >= neutral_prediction):\n",
    "        return 1\n",
    "    else:\n",
    "        return 2"
   ]
  },
  {
   "cell_type": "code",
   "execution_count": 9,
   "metadata": {
    "collapsed": true
   },
   "outputs": [],
   "source": [
    "negative_text = getText(data, 0)\n",
    "positive_text = getText(data, 1)\n",
    "neutral_text = getText(data, 2)"
   ]
  },
  {
   "cell_type": "code",
   "execution_count": 10,
   "metadata": {
    "collapsed": true
   },
   "outputs": [],
   "source": [
    "negative_words = getWords(negative_text)\n",
    "positive_words = getWords(positive_text)\n",
    "neutral_words = getWords(neutral_text)"
   ]
  },
  {
   "cell_type": "code",
   "execution_count": 11,
   "metadata": {
    "collapsed": true
   },
   "outputs": [],
   "source": [
    "positive_data_count = getNumOfClassification(1)\n",
    "negative_data_count = getNumOfClassification(0)\n",
    "neutral_data_count = getNumOfClassification(2)"
   ]
  },
  {
   "cell_type": "code",
   "execution_count": 12,
   "metadata": {
    "collapsed": true
   },
   "outputs": [],
   "source": [
    "prob_positive = positive_data_count / len(data)\n",
    "prob_negative = negative_data_count / len(data)\n",
    "prob_neutral = neutral_data_count / len(data)"
   ]
  },
  {
   "cell_type": "code",
   "execution_count": 16,
   "metadata": {},
   "outputs": [],
   "source": [
    "predictions = [predict_all(r[1], negative_words, prob_negative, negative_data_count, positive_words, prob_positive, positive_data_count, neutral_words, prob_neutral, neutral_data_count) for r in test]"
   ]
  },
  {
   "cell_type": "code",
   "execution_count": 14,
   "metadata": {},
   "outputs": [
    {
     "name": "stdout",
     "output_type": "stream",
     "text": [
      "accuracy: 0.2284\n"
     ]
    }
   ],
   "source": [
    "actual = [int(r[0]) for r in test]\n",
    "acc = metrics.accuracy_score(actual, predictions, normalize=True)\n",
    "print(\"accuracy: {0}\".format(acc))"
   ]
  },
  {
   "cell_type": "code",
   "execution_count": 38,
   "metadata": {
    "collapsed": true
   },
   "outputs": [],
   "source": [
    "input= \"This is in Boston\""
   ]
  },
  {
   "cell_type": "code",
   "execution_count": 39,
   "metadata": {},
   "outputs": [
    {
     "name": "stdout",
     "output_type": "stream",
     "text": [
      "Neutral\n"
     ]
    }
   ],
   "source": [
    "negative_prediction = predict_one(input, negative_words, prob_negative, negative_data_count)\n",
    "positive_prediction = predict_one(input, positive_words, prob_positive, positive_data_count)\n",
    "neutral_prediction = predict_one(input, neutral_words, prob_neutral, neutral_data_count)\n",
    "\n",
    "if (negative_prediction >= positive_prediction) and (negative_prediction >= neutral_prediction):\n",
    "    print(\"Negative\")\n",
    "elif (positive_prediction >= neutral_prediction):\n",
    "    print(\"Positive\")\n",
    "else:\n",
    "    print(\"Neutral\")"
   ]
  },
  {
   "cell_type": "code",
   "execution_count": null,
   "metadata": {
    "collapsed": true
   },
   "outputs": [],
   "source": []
  }
 ],
 "metadata": {
  "kernelspec": {
   "display_name": "Python 3",
   "language": "python",
   "name": "python3"
  },
  "language_info": {
   "codemirror_mode": {
    "name": "ipython",
    "version": 3
   },
   "file_extension": ".py",
   "mimetype": "text/x-python",
   "name": "python",
   "nbconvert_exporter": "python",
   "pygments_lexer": "ipython3",
   "version": "3.6.3"
  }
 },
 "nbformat": 4,
 "nbformat_minor": 2
}
