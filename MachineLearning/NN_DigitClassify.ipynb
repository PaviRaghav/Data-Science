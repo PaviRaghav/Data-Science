{
 "cells": [
  {
   "cell_type": "code",
   "execution_count": 1,
   "metadata": {
    "collapsed": true
   },
   "outputs": [],
   "source": [
    "import matplotlib as plt\n",
    "import numpy as np\n",
    "from PIL import Image\n",
    "import time as tm\n",
    "import pandas as pd\n",
    "import copy as cpy\n",
    "import sys"
   ]
  },
  {
   "cell_type": "code",
   "execution_count": 2,
   "metadata": {},
   "outputs": [],
   "source": [
    "class NN_DigitsClassify:\n",
    "    def __init__(self, hidden_dim):\n",
    "        self.W1 = (np.random.randn(65,hidden_dim))/8\n",
    "        self.W2 = (np.random.randn(hidden_dim+1, 10))/np.sqrt(hidden_dim+1)\n",
    "        \n",
    "    def one_epoch(self,X,y,alpha,lambda1):\n",
    "        #forward propagation\n",
    "        a1 = np.append(np.ones([len(X),1]),X,1)\n",
    "        z1 = np.dot(a1,self.W1)\n",
    "        exp_z1 = np.exp((-1)*z1)\n",
    "        x2 = (1.)/(1 + exp_z1)\n",
    "        a2 = np.append(np.ones([len(x2),1]),x2,1)\n",
    "        z2 = np.dot(a2,self.W2)\n",
    "        \n",
    "        exp_z2 = np.exp(z2)\n",
    "        softmax_scores = exp_z2 / np.sum(exp_z2, axis=1, keepdims=True)\n",
    "        \n",
    "        # Backpropagation\n",
    "        one_hot_y = np.zeros_like(softmax_scores)\n",
    "        for i in range(X.shape[0]):\n",
    "            one_hot_y[i,y[i]] = 1\n",
    "        beta3 =  softmax_scores - one_hot_y\n",
    "        \n",
    "        gdash2 = np.multiply(x2,(1-x2))\n",
    "        beta2 = np.multiply(np.dot(beta3, np.transpose(self.W2[1:,:])) , gdash2)\n",
    "        #Update weights\n",
    "        updW2 = alpha * (np.dot(np.transpose(a2),beta3) + lambda1*self.W2)\n",
    "        updW1 = alpha * (np.dot(np.transpose(a1),beta2) + lambda1*self.W1)\n",
    "        self.W2 = self.W2 - updW2\n",
    "        self.W1 = self.W1 - updW1\n",
    "    \n",
    "    def fit(self,X,y,num_epochs,alpha=0.01,lambda1=0):\n",
    "        #print(self.W1, self.W2)\n",
    "        for epoch in range(0, num_epochs):\n",
    "            self.one_epoch(X,y,alpha,lambda1)\n",
    "            \n",
    "    def predict(self,X):\n",
    "        a1 = np.append(np.ones([len(X),1]),X,1)\n",
    "        z1 = np.dot(a1,self.W1)\n",
    "        exp_z1 = np.exp((-1)*z1)\n",
    "        x2 = (1.)/(1 + exp_z1)\n",
    "        a2 = np.append(np.ones([len(x2),1]),x2,1)\n",
    "        z2 = np.dot(a2,self.W2)        \n",
    "        exp_z2 = np.exp(z2)\n",
    "        softmax_scores = exp_z2 / np.sum(exp_z2, axis=1, keepdims=True)\n",
    "        predictions = np.argmax(softmax_scores, axis = 1)\n",
    "        return predictions"
   ]
  },
  {
   "cell_type": "code",
   "execution_count": 3,
   "metadata": {},
   "outputs": [],
   "source": [
    "X_train = np.genfromtxt('/Users/pavithraraghavan/Downloads/CS440640_Lab5/CS440640_Lab5/DATA/Digit_X_train.csv', delimiter=',')\n",
    "y_train = np.genfromtxt('/Users/pavithraraghavan/Downloads/CS440640_Lab5/CS440640_Lab5/DATA/Digit_y_train.csv', delimiter=',').astype(np.int64)"
   ]
  },
  {
   "cell_type": "code",
   "execution_count": 4,
   "metadata": {},
   "outputs": [],
   "source": [
    "#Initialize model\n",
    "#input_dim = np.shape(X)[1]\n",
    "#output_dim = np.max(y) + 1\n",
    "hidden_dim = 50\n",
    "NN = NN_DigitsClassify(hidden_dim)"
   ]
  },
  {
   "cell_type": "code",
   "execution_count": 5,
   "metadata": {},
   "outputs": [],
   "source": [
    "NN.fit(X_train,y_train,5000,alpha=0.01, lambda1=0.03)"
   ]
  },
  {
   "cell_type": "code",
   "execution_count": 6,
   "metadata": {},
   "outputs": [],
   "source": [
    "X_test = np.genfromtxt('/Users/pavithraraghavan/Downloads/CS440640_Lab5/CS440640_Lab5/DATA/Digit_X_test.csv', delimiter=',')\n",
    "y_test = np.genfromtxt('/Users/pavithraraghavan/Downloads/CS440640_Lab5/CS440640_Lab5/DATA/Digit_y_test.csv', delimiter=',').astype(np.int64)"
   ]
  },
  {
   "cell_type": "code",
   "execution_count": 8,
   "metadata": {},
   "outputs": [
    {
     "name": "stdout",
     "output_type": "stream",
     "text": [
      "('ACCURACY: ', 1.0)\nCONFUSION MATRIX: \n[[90.  0.  0.  0.  0.  0.  0.  0.  0.  0.]\n [ 0. 91.  0.  0.  0.  0.  0.  0.  0.  0.]\n [ 0.  0. 91.  0.  0.  0.  0.  0.  0.  0.]\n [ 0.  0.  0. 92.  0.  0.  0.  0.  0.  0.]\n [ 0.  0.  0.  0. 89.  0.  0.  0.  0.  0.]\n [ 0.  0.  0.  0.  0. 91.  0.  0.  0.  0.]\n [ 0.  0.  0.  0.  0.  0. 90.  0.  0.  0.]\n [ 0.  0.  0.  0.  0.  0.  0. 90.  0.  0.]\n [ 0.  0.  0.  0.  0.  0.  0.  0. 86.  0.]\n [ 0.  0.  0.  0.  0.  0.  0.  0.  0. 88.]]\n"
     ]
    }
   ],
   "source": [
    "#Accuracy on training data\n",
    "y_pred1 = NN.predict(X_train)\n",
    "acc = 0\n",
    "con_mat = np.zeros((10, 10))\n",
    "for i in range(len(y_pred1)):\n",
    "    con_mat[y_pred1[i], y_train[i]] += 1\n",
    "    if y_train[i] == y_pred1[i]:\n",
    "        acc += 1.0\n",
    "#print(acc)\n",
    "#print(np.sum(y_pred==y))\n",
    "acc = acc/len(y_pred1)\n",
    "print ('ACCURACY: ', acc)\n",
    "print ('CONFUSION MATRIX: ')\n",
    "print(con_mat)"
   ]
  },
  {
   "cell_type": "code",
   "execution_count": 9,
   "metadata": {},
   "outputs": [
    {
     "name": "stdout",
     "output_type": "stream",
     "text": [
      "('ACCURACY: ', 0.9354838709677419)\nCONFUSION MATRIX: \n[[85.  2.  0.  0.  0.  0.  0.  0.  0.  0.]\n [ 0. 82.  0.  1.  1.  1.  1.  0.  2.  0.]\n [ 0.  0. 85.  0.  0.  0.  0.  0.  0.  0.]\n [ 0.  0.  1. 77.  0.  0.  0.  0.  0.  1.]\n [ 1.  0.  0.  0. 85.  0.  0.  1.  0.  0.]\n [ 0.  0.  0.  3.  0. 84.  0.  1.  2.  2.]\n [ 2.  1.  0.  0.  3.  2. 90.  0.  0.  0.]\n [ 0.  0.  0.  2.  0.  0.  0. 84.  1.  0.]\n [ 0.  1.  0.  7.  1.  1.  0.  0. 82.  2.]\n [ 0.  5.  0.  1.  2.  3.  0.  3.  1. 87.]]\n"
     ]
    }
   ],
   "source": [
    "#Accuracy on testing data\n",
    "acc = 0\n",
    "y_pred2 = NN.predict(X_test)\n",
    "con_mat = np.zeros((10, 10))\n",
    "for i in range(len(y_pred2)):\n",
    "    con_mat[y_pred2[i], y_test[i]] += 1\n",
    "    if y_test[i] == y_pred2[i]:\n",
    "        acc += 1.0\n",
    "acc = acc/len(y_pred2)\n",
    "print ('ACCURACY: ', acc)\n",
    "print ('CONFUSION MATRIX: ')\n",
    "print(con_mat)"
   ]
  },
  {
   "cell_type": "code",
   "execution_count": 38,
   "metadata": {
    "collapsed": false
   },
   "outputs": [],
   "source": [
    "#display the input image\n",
    "\n",
    "image1 = np.zeros([20,8,8])\n",
    "x = np.zeros([20,8,152])\n",
    "for j in range(0, 10):\n",
    "    for i in range(0, 10):\n",
    "        data = np.reshape(255*X_test[i],(8,8)) #i--the ith digit\n",
    "        image1[i*2] = Image.fromarray(data)\n",
    "    x[j*2] = np.hstack((image1[0:19]))\n",
    "#data = np.reshape(255*X_train[2],(8,8)) #i--the ith digit\n",
    "#image2 = Image.fromarray(data)\n",
    "\n",
    "x = np.vstack((x[0:19]))\n",
    "x = Image.fromarray(x)\n",
    "#x.save('/Users/pavithraraghavan/Documents/BU/2nd_sem/AI/P1/Plots/digits_test_in.jpg')\n",
    "x.show()"
   ]
  },
  {
   "cell_type": "code",
   "execution_count": 27,
   "metadata": {},
   "outputs": [
    {
     "name": "stdout",
     "output_type": "stream",
     "text": [
      "[[8. 8. 4. 9. 0. 8. 9. 8. 1. 2.]\n [3. 4. 5. 6. 7. 8. 9. 0. 1. 2.]\n [3. 4. 5. 6. 7. 8. 9. 0. 1. 2.]\n [3. 4. 9. 6. 7. 8. 9. 0. 9. 5.]\n [5. 6. 5. 0. 9. 8. 9. 8. 4. 1.]\n [7. 7. 3. 9. 1. 2. 7. 8. 2. 0.]\n [1. 2. 6. 3. 3. 7. 3. 3. 4. 6.]\n [6. 6. 4. 9. 1. 5. 0. 9. 5. 2.]\n [8. 2. 0. 0. 1. 7. 6. 3. 2. 1.]\n [4. 6. 3. 1. 3. 9. 1. 7. 6. 8.]]\n"
     ]
    }
   ],
   "source": [
    "y_predicted = np.zeros([10,10])\n",
    "for j in range(0, 10):\n",
    "    for i in range(0, 10):\n",
    "        y_predicted[j,i] = y_pred2[(j*10)+i]\n",
    "        #print(y_pred2[(j*10)+i])\n",
    "print(y_predicted)"
   ]
  },
  {
   "cell_type": "code",
   "execution_count": null,
   "metadata": {
    "collapsed": false
   },
   "outputs": [
    {
     "name": "stdout",
     "output_type": "stream",
     "text": [
      "     0    1    2    3    4    5    6    7    8    9\n0  8.0  8.0  4.0  9.0  0.0  8.0  9.0  8.0  1.0  2.0\n1  3.0  4.0  5.0  6.0  7.0  8.0  9.0  0.0  1.0  2.0\n2  3.0  4.0  5.0  6.0  7.0  8.0  9.0  0.0  1.0  2.0\n3  3.0  4.0  9.0  6.0  7.0  8.0  9.0  0.0  9.0  5.0\n4  5.0  6.0  5.0  0.0  9.0  8.0  9.0  8.0  4.0  1.0\n5  7.0  7.0  3.0  9.0  1.0  2.0  7.0  8.0  2.0  0.0\n6  1.0  2.0  6.0  3.0  3.0  7.0  3.0  3.0  4.0  6.0\n7  6.0  6.0  4.0  9.0  1.0  5.0  0.0  9.0  5.0  2.0\n8  8.0  2.0  0.0  0.0  1.0  7.0  6.0  3.0  2.0  1.0\n9  4.0  6.0  3.0  1.0  3.0  9.0  1.0  7.0  6.0  8.0\n"
     ]
    },
    {
     "ename": "TypeError",
     "evalue": "to_csv() got an unexpected keyword argument 'Header'",
     "traceback": [
      "\u001b[0;31m\u001b[0m",
      "\u001b[0;31mTypeError\u001b[0mTraceback (most recent call last)",
      "\u001b[0;32m<ipython-input-40-b747b29c8faa>\u001b[0m in \u001b[0;36m<module>\u001b[0;34m()\u001b[0m\n\u001b[1;32m      4\u001b[0m \u001b[0mdf\u001b[0m\u001b[0;34m.\u001b[0m\u001b[0mstyle\u001b[0m\u001b[0;34m\u001b[0m\u001b[0m\n\u001b[1;32m      5\u001b[0m \u001b[0;32mprint\u001b[0m\u001b[0;34m(\u001b[0m\u001b[0mdf\u001b[0m\u001b[0;34m)\u001b[0m\u001b[0;34m\u001b[0m\u001b[0m\n\u001b[0;32m----> 6\u001b[0;31m \u001b[0mdf\u001b[0m\u001b[0;34m.\u001b[0m\u001b[0mto_csv\u001b[0m\u001b[0;34m(\u001b[0m\u001b[0;34m'/Users/pavithraraghavan/Documents/BU/2nd_sem/AI/P1/Plots/digits_predicted.csv'\u001b[0m\u001b[0;34m,\u001b[0m \u001b[0mencoding\u001b[0m\u001b[0;34m=\u001b[0m\u001b[0;34m'utf-8'\u001b[0m\u001b[0;34m,\u001b[0m \u001b[0mHeader\u001b[0m\u001b[0;34m=\u001b[0m\u001b[0mFalse\u001b[0m\u001b[0;34m,\u001b[0m \u001b[0mindex\u001b[0m\u001b[0;34m=\u001b[0m\u001b[0mFalse\u001b[0m\u001b[0;34m)\u001b[0m\u001b[0;34m\u001b[0m\u001b[0m\n\u001b[0m",
      "\u001b[0;31mTypeError\u001b[0m: to_csv() got an unexpected keyword argument 'Header'"
     ],
     "output_type": "error"
    }
   ],
   "source": [
    "#export matrix to csv\n",
    "pd.set_option('display.precision',5)\n",
    "df =pd.DataFrame(y_predicted)\n",
    "df.style\n",
    "print(df)\n",
    "df.to_csv('/Users/pavithraraghavan/Documents/BU/2nd_sem/AI/P1/Plots/digits_predicted.csv', encoding='utf-8', header=False, index=False)"
   ]
  },
  {
   "cell_type": "code",
   "execution_count": null,
   "metadata": {},
   "outputs": [],
   "source": []
  }
 ],
 "metadata": {
  "kernelspec": {
   "display_name": "Python 2",
   "language": "python",
   "name": "python2"
  },
  "language_info": {
   "codemirror_mode": {
    "name": "ipython",
    "version": 2
   },
   "file_extension": ".py",
   "mimetype": "text/x-python",
   "name": "python",
   "nbconvert_exporter": "python",
   "pygments_lexer": "ipython2",
   "version": "2.7.6"
  }
 },
 "nbformat": 4,
 "nbformat_minor": 0
}
